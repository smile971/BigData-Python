{
 "cells": [
  {
   "cell_type": "markdown",
   "id": "ac8fdbea-2367-4f5e-b6b8-0c6cef805b71",
   "metadata": {},
   "source": [
    "标准库与扩展库对象的导入和使用"
   ]
  },
  {
   "cell_type": "code",
   "execution_count": 18,
   "id": "d516898e-8492-4f6d-ad9d-7b3b208c8d97",
   "metadata": {},
   "outputs": [
    {
     "name": "stdout",
     "output_type": "stream",
     "text": [
      "3.141592653589793\n"
     ]
    },
    {
     "data": {
      "text/plain": [
       "0.766067661635772"
      ]
     },
     "execution_count": 18,
     "metadata": {},
     "output_type": "execute_result"
    }
   ],
   "source": [
    "import math #导入标准库math\n",
    "math.factorial(6)#计算6的阶乘\n",
    "math.gcd(48,39)#返回两个整数的最大公约数\n",
    "import numpy as np\n",
    "np.sin([0,np.pi/4,np.pi/2,np.pi])#计算多个角度的正弦值\n",
    "import os.path as path\n",
    "path.isfile(r'C:\\Windows\\notepad.exe')\n",
    "from random import choice,randint\n",
    "choice('abcdefg')#从字符中随机选择一个字符\n",
    "randint(1,100)#在1-100随机生成一个随机数\n",
    "from os.path import getsize\n",
    "getsize(r'C:\\Windows\\notepad.exe')#查看文件大小，单位为字节\n",
    "from math import pi as PI\n",
    "print(PI)\n",
    "from random import *\n",
    "x=[1,2,3,4,5,6]\n",
    "shuffle(x)#随机打乱顺序\n",
    "choice(x)#随机选择一个元素\n",
    "sample(x,3)#随机选择3个不重复元素\n",
    "choices('abcd',k=8)#从‘abcd’中随机选择8个字符\n",
    "random()#返回介于[0,1)区间的随机数\n",
    "\n"
   ]
  },
  {
   "cell_type": "markdown",
   "id": "a94f1d38-3c05-43c6-ac0a-c2f29eec6820",
   "metadata": {},
   "source": [
    "常量与变量"
   ]
  },
  {
   "cell_type": "code",
   "execution_count": 33,
   "id": "d1f86801-ad22-4734-92c2-f2d3ea17c88e",
   "metadata": {},
   "outputs": [
    {
     "data": {
      "text/plain": [
       "140722583951152"
      ]
     },
     "execution_count": 33,
     "metadata": {},
     "output_type": "execute_result"
    }
   ],
   "source": [
    "x=3#整型变量，不需要提前声明变量x\n",
    "type(x)\n",
    "x=5.0\n",
    "type(x)\n",
    "x='Hello world.'\n",
    "type(x)\n",
    "x=[1,2,3]\n",
    "type(x)\n",
    "x=3\n",
    "y=x\n",
    "id(x)#查看对象内存地址\n",
    "id(y)\n",
    "x+=6\n",
    "x\n",
    "id(x)\n",
    "id(y)"
   ]
  },
  {
   "cell_type": "markdown",
   "id": "9c01ad11-2099-4a6a-bb52-e4a5fbb3d912",
   "metadata": {},
   "source": [
    "数字"
   ]
  },
  {
   "cell_type": "code",
   "execution_count": 47,
   "id": "5859e62b-764a-4f7e-aec5-a182983aef35",
   "metadata": {},
   "outputs": [
    {
     "data": {
      "text/plain": [
       "(3-4j)"
      ]
     },
     "execution_count": 47,
     "metadata": {},
     "output_type": "execute_result"
    }
   ],
   "source": [
    "import math\n",
    "math.factorial(64)#计算64的阶乘\n",
    "a=3**0.5#计算3的平方根\n",
    "result=a**2#一个下划线表示上一个正确的输出\n",
    "math.isclose(result, 3)#比较两个实数是否靠近\n",
    "x=3+4j\n",
    "y=5+6j\n",
    "x+y\n",
    "x*y\n",
    "x**3#计算复数的3次方\n",
    "abs(x)#使用abs计算复数的模\n",
    "x.imag#虚部\n",
    "x.real#实部\n",
    "x.conjugate()#共轭复数"
   ]
  },
  {
   "cell_type": "markdown",
   "id": "672d8bce-0ef4-4e3f-bd50-5ba143fd7ec8",
   "metadata": {},
   "source": [
    "字符串"
   ]
  },
  {
   "cell_type": "code",
   "execution_count": 3,
   "id": "21f08277-26b3-495a-a2ae-0e35d8fe6184",
   "metadata": {},
   "outputs": [
    {
     "name": "stdout",
     "output_type": "stream",
     "text": [
      "Tom said,\"Let's go\"\n"
     ]
    },
    {
     "data": {
      "text/plain": [
       "14"
      ]
     },
     "execution_count": 3,
     "metadata": {},
     "output_type": "execute_result"
    }
   ],
   "source": [
    "x='Hello world'#使用单引号作为定界符\n",
    "x=\"Python is a great language\"#使用双引号作为界定符\n",
    "x='''Tom said,\"Let's go\"'''#不同界定符可以互相嵌套\n",
    "print(x)\n",
    "'good'+'morning'#连接字符串\n",
    "'='*30\n",
    "len('人生苦短，我用Python！')"
   ]
  },
  {
   "cell_type": "markdown",
   "id": "3ec87c2e-e934-4a61-9434-8e48d4ed2a9f",
   "metadata": {},
   "source": [
    "列表、元组、字典、集合"
   ]
  },
  {
   "cell_type": "code",
   "execution_count": 8,
   "id": "14db0107-5192-46ef-a32e-33d7ebd48fc5",
   "metadata": {},
   "outputs": [
    {
     "name": "stdout",
     "output_type": "stream",
     "text": [
      "2\n",
      "2\n",
      "97\n"
     ]
    },
    {
     "data": {
      "text/plain": [
       "True"
      ]
     },
     "execution_count": 8,
     "metadata": {},
     "output_type": "execute_result"
    }
   ],
   "source": [
    "x_list=[1,2,3]#创建列表对象\n",
    "x_tuple=(1,2,3)#创建元组对象\n",
    "x_dict={'a':97,'b':98,'c':99}#创建字典对象，元素形式为”键：值“\n",
    "x_set={1,2,3}#创建集合对象\n",
    "print(x_list[1])#使用下标访问指定位置的元素\n",
    "print(x_tuple[1])#元组也支持使用序号作为下标\n",
    "print(x_dict['a'])#访问特定的键对应的值\n",
    "3 in x_set#测试3是否为集合的元素，关键字in支持列表、元组以及字典字符串\n"
   ]
  },
  {
   "cell_type": "markdown",
   "id": "a3e6dad7-0656-4e31-993b-5f6421d56d0a",
   "metadata": {},
   "source": [
    "运算符                                                            "
   ]
  },
  {
   "cell_type": "code",
   "execution_count": 26,
   "id": "d97705ff-a370-4d28-b4a2-34cf65a01cb8",
   "metadata": {},
   "outputs": [
    {
     "data": {
      "text/plain": [
       "['ArithmeticError',\n",
       " 'AssertionError',\n",
       " 'AttributeError',\n",
       " 'BaseException',\n",
       " 'BlockingIOError',\n",
       " 'BrokenPipeError',\n",
       " 'BufferError',\n",
       " 'BytesWarning',\n",
       " 'ChildProcessError',\n",
       " 'ConnectionAbortedError',\n",
       " 'ConnectionError',\n",
       " 'ConnectionRefusedError',\n",
       " 'ConnectionResetError',\n",
       " 'DeprecationWarning',\n",
       " 'EOFError',\n",
       " 'Ellipsis',\n",
       " 'EnvironmentError',\n",
       " 'Exception',\n",
       " 'False',\n",
       " 'FileExistsError',\n",
       " 'FileNotFoundError',\n",
       " 'FloatingPointError',\n",
       " 'FutureWarning',\n",
       " 'GeneratorExit',\n",
       " 'IOError',\n",
       " 'ImportError',\n",
       " 'ImportWarning',\n",
       " 'IndentationError',\n",
       " 'IndexError',\n",
       " 'InterruptedError',\n",
       " 'IsADirectoryError',\n",
       " 'KeyError',\n",
       " 'KeyboardInterrupt',\n",
       " 'LookupError',\n",
       " 'MemoryError',\n",
       " 'ModuleNotFoundError',\n",
       " 'NameError',\n",
       " 'None',\n",
       " 'NotADirectoryError',\n",
       " 'NotImplemented',\n",
       " 'NotImplementedError',\n",
       " 'OSError',\n",
       " 'OverflowError',\n",
       " 'PendingDeprecationWarning',\n",
       " 'PermissionError',\n",
       " 'ProcessLookupError',\n",
       " 'RecursionError',\n",
       " 'ReferenceError',\n",
       " 'ResourceWarning',\n",
       " 'RuntimeError',\n",
       " 'RuntimeWarning',\n",
       " 'StopAsyncIteration',\n",
       " 'StopIteration',\n",
       " 'SyntaxError',\n",
       " 'SyntaxWarning',\n",
       " 'SystemError',\n",
       " 'SystemExit',\n",
       " 'TabError',\n",
       " 'TimeoutError',\n",
       " 'True',\n",
       " 'TypeError',\n",
       " 'UnboundLocalError',\n",
       " 'UnicodeDecodeError',\n",
       " 'UnicodeEncodeError',\n",
       " 'UnicodeError',\n",
       " 'UnicodeTranslateError',\n",
       " 'UnicodeWarning',\n",
       " 'UserWarning',\n",
       " 'ValueError',\n",
       " 'Warning',\n",
       " 'WindowsError',\n",
       " 'ZeroDivisionError',\n",
       " '__IPYTHON__',\n",
       " '__build_class__',\n",
       " '__debug__',\n",
       " '__doc__',\n",
       " '__import__',\n",
       " '__loader__',\n",
       " '__name__',\n",
       " '__package__',\n",
       " '__spec__',\n",
       " 'abs',\n",
       " 'all',\n",
       " 'any',\n",
       " 'ascii',\n",
       " 'bin',\n",
       " 'bool',\n",
       " 'breakpoint',\n",
       " 'bytearray',\n",
       " 'bytes',\n",
       " 'callable',\n",
       " 'chr',\n",
       " 'classmethod',\n",
       " 'compile',\n",
       " 'complex',\n",
       " 'copyright',\n",
       " 'credits',\n",
       " 'delattr',\n",
       " 'dict',\n",
       " 'dir',\n",
       " 'display',\n",
       " 'divmod',\n",
       " 'enumerate',\n",
       " 'eval',\n",
       " 'exec',\n",
       " 'execfile',\n",
       " 'filter',\n",
       " 'float',\n",
       " 'format',\n",
       " 'frozenset',\n",
       " 'get_ipython',\n",
       " 'getattr',\n",
       " 'globals',\n",
       " 'hasattr',\n",
       " 'hash',\n",
       " 'help',\n",
       " 'hex',\n",
       " 'id',\n",
       " 'input',\n",
       " 'int',\n",
       " 'isinstance',\n",
       " 'issubclass',\n",
       " 'iter',\n",
       " 'len',\n",
       " 'license',\n",
       " 'list',\n",
       " 'locals',\n",
       " 'map',\n",
       " 'max',\n",
       " 'memoryview',\n",
       " 'min',\n",
       " 'next',\n",
       " 'object',\n",
       " 'oct',\n",
       " 'open',\n",
       " 'ord',\n",
       " 'pow',\n",
       " 'print',\n",
       " 'property',\n",
       " 'range',\n",
       " 'repr',\n",
       " 'reversed',\n",
       " 'round',\n",
       " 'runfile',\n",
       " 'set',\n",
       " 'setattr',\n",
       " 'slice',\n",
       " 'sorted',\n",
       " 'staticmethod',\n",
       " 'str',\n",
       " 'sum',\n",
       " 'super',\n",
       " 'tuple',\n",
       " 'type',\n",
       " 'vars',\n",
       " 'zip']"
      ]
     },
     "execution_count": 26,
     "metadata": {},
     "output_type": "execute_result"
    }
   ],
   "source": [
    "3+5#算术加法运算符\n",
    "[1,2,3]+[4,5,6]#连接两个列表\n",
    "(1,2,3)+(4,)#连接两个元组\n",
    "'abcd'+'1234'#连接两个字符串\n",
    "5-3#算术除法\n",
    "(5+6j)-(3+4j)#复数减法\n",
    "{1,2,3,4,5}-{2,3,5,6}#集合的差运算\n",
    "3*(3+4j)#算术乘法相乘\n",
    "[1,2,3]*3#列表与整数相乘得到新列表\n",
    "(1,2,3)*3#元组与整数相乘得到新元组\n",
    "'abc'*3#字符串与整数相乘得到新字符串\n",
    "5/2#除法\n",
    "17//4#向下取整\n",
    "17.0//4#操作有实数，结果为实数形式的整数值\n",
    "-17//4#向下取整，负数优先级比整除运算符高\n",
    "789%23#余数\n",
    "-17%4#余数与右侧运算数符号一致\n",
    "'%c,%d'%(65,65)#%c格式化字符，%d格式化整数\n",
    "3**2#3的平方\n",
    "9**0.5#9平方根\n",
    "8**(1/3)#8开立方根\n",
    "1<3<5 #1<3and3<5\n",
    "1<2==2 #1<2and2==2\n",
    "2>3<4 #2>3and3<4\n",
    "'Hello'>'hello' #只比较第一个字符后面的不用在比较\n",
    "[1,2,3]<[1,2,4]#前两个元素相等，比较第三个\n",
    "[1,2,3]<[1,2,3,4]#前三个元素相等，但后面列表比前面长\n",
    "[3,1,2]<[1,5,6] #第一个元素3<1不成立\n",
    "{1,2,3}<{1,2,3,4} #前面集合是后面元素的子集\n",
    "{1,2,3}=={3,2,1} #集合中元素无序，只要包含相同元素集合就相等\n",
    "{1,2,4}>{1,2,3}#第一个集合不是第二个集合超集\n",
    "3 in [5,7,3] #测试3是否在列表中\n",
    "[3] in [5,7,3] #列表中不存在元素[3]\n",
    "7 in range (1,10,2) #range()用来生成指定范围数字\n",
    "'abcd' in 'abcdef' #子字符串测试\n",
    "{1,2,3}|{3,4,5}#并集，并且自动去除重复元素\n",
    "{1,2,3}&{3,4,5} #交集，\n",
    "{1,2,3}-{3,4,5} #差集\n",
    "{1,2,3}^{3,4,5}  #对称差集\n",
    "3>5 and a>3 #3>5不成立，不计算后面的a>3\n",
    "\n",
    "3<5 or a>3 #前者成立，不再计算后者\n",
    "3 and 5  #and 和 or连接的表达式值不一定是True或False\n",
    "3 and 5>2 #最后一个计算的表达式值作为整个表达式的值\n",
    "not 3 #非0数等价于True，取反后为False\n",
    "not [] #空列表等价于False，取反后为True\n",
    "dir(__builtins__)"
   ]
  },
  {
   "cell_type": "markdown",
   "id": "9ce0d102-9f00-447d-b0de-bcdddd0d862f",
   "metadata": {},
   "source": [
    "类型转换函数"
   ]
  },
  {
   "cell_type": "code",
   "execution_count": 3,
   "id": "fbc88fae-c90c-4c8c-a468-1cf92a4c3cc7",
   "metadata": {},
   "outputs": [
    {
     "data": {
      "text/plain": [
       "{1, 2, 3, 4}"
      ]
     },
     "execution_count": 3,
     "metadata": {},
     "output_type": "execute_result"
    }
   ],
   "source": [
    "bin(55)#转换为二进制形式 \n",
    "oct(555)#转换为八进制形式\n",
    "hex(555)#转换为十六进制形式\n",
    "float(3)#整数转换实数\n",
    "float('3.5')#字符串转换为实数\n",
    "float('inf')#正无穷大\n",
    "float('-inf')\n",
    "complex(3,5)#生成复数\n",
    "complex('3+4j')#字符串形式复数转换为复数\n",
    "int(-3.8)#直接取整数部分\n",
    "int(3.5)#转换为整数\n",
    "int('111')#字符串转换为整数\n",
    "int('\\t 8 \\n')#自动忽略数字两侧空白字符串\n",
    "int('   8')\n",
    "int('1111',8)#将‘1111’看作八进制，转换为十进制整数\n",
    "int('1111',2)#将‘1111’看作二进制，转换为十进制整数\n",
    "ord('a')#查看指定字符的unicode码\n",
    "ord('董')#适用于汉字\n",
    "char_code=list(map(ord,'董付国'))#获取字符串中每个字符的编码\n",
    "''.join(map(chr,char_code))#把unicode编码转换为汉字，一个下划线表示上一次输出结果，join是字符串方法，用于连接字符串\n",
    "chr(65)#返回数字65对应的字符\n",
    "str([1,2,3])#列表变为字符串\n",
    "str((1,2,3))#元组变成字符串\n",
    "str({1,3,4})#集合变成字符串\n",
    "list()#创建空列表\n",
    "list(range(5))#把range对象转换为列表\n",
    "tuple(range(5))#把range对象转换为元组\n",
    "dict(zip('123456','abcd'))#根据zip对象创建字典\n",
    "dict(name='董付国',age=41)\n",
    "set('1111222334')#创建可变集合，自动去除重复元素\n",
    "set('Python')\n",
    "eval('3+5')#计算字符串的值\n",
    "eval(b'3+5')#前面加字母b表示字节串\n",
    "eval('[1,2,3,4]')#字符串求值，还原为列表\n",
    "list('[1,2,3,4]')#把字符串中所有元素都转为列表中元素\n",
    "eval('(1,2,3)')#还原元组\n",
    "eval('{\"a\":97,\"A\":65}')#还原字典\n",
    "eval('{1,2,3,4,3,2}')#还原集合\n"
   ]
  },
  {
   "cell_type": "markdown",
   "id": "dd279dff-a152-46ee-b6a8-ab67176ead54",
   "metadata": {},
   "source": [
    "内置函数"
   ]
  },
  {
   "cell_type": "code",
   "execution_count": 19,
   "id": "f1716877-b9bb-4eeb-b7b5-56c742aa1997",
   "metadata": {},
   "outputs": [
    {
     "name": "stdout",
     "output_type": "stream",
     "text": [
      "[6, 1, 0, 4, 2, 4, 4, 2]\n",
      "[6, 9, 2, 2, 6, 8, 9, 1]\n",
      "[6, 6, 9, 9, 6, 1, 7, 6]\n",
      "[9, 0, 6, 1, 6, 7, 7, 7]\n",
      "[1, 6, 1, 9, 6, 2, 1, 5]\n"
     ]
    },
    {
     "name": "stdin",
     "output_type": "stream",
     "text": [
      "Please input: 345\n"
     ]
    },
    {
     "data": {
      "text/plain": [
       "345"
      ]
     },
     "execution_count": 19,
     "metadata": {},
     "output_type": "execute_result"
    }
   ],
   "source": [
    "x=[1,2,3,4,5]\n",
    "max(x)\n",
    "min(x)\n",
    "sum(x)\n",
    "sum(x)/len(x)#平均值\n",
    "max(['55','111'])#返回最大字符串\n",
    "max(['999','1111'],key=len)#返回长度最大字符串\n",
    "max(['abc','ABD'],key=str.upper)#忽略大小写\n",
    "from random import choices #choices()随机选择k个值\n",
    "data=[choices(range(10),k=8) for i in range(5)]#data有5个子列表，每个子列表有8个随机数字，每个随机数字都在【0=10】区间，循环，遍历并输出每个子列表\n",
    "for row in data:\n",
    "    print(row)\n",
    "#key参数指定排序列表\n",
    "max(data,key=sum)#元素之和最大的子列表\n",
    "max(data,key=min)#最小值最大的子列表\n",
    "max(data,key=lambda row:row[7])#下标7的元素最大的子列表\n",
    "sum([[1,2],[3,4],[5,6]],[])#等价于[]+[1,2]+[3,4]+[5,6]\n",
    "x=input('Please input:')#input()函数的参数表示提示信息\n",
    "type(x)#把用户输入作为字符串对待\n",
    "int(x)#转换为整数\n",
    "\n",
    "\n"
   ]
  },
  {
   "cell_type": "code",
   "execution_count": 25,
   "id": "23e9d550-3d94-4d51-af4e-f88d93381f70",
   "metadata": {
    "scrolled": true
   },
   "outputs": [
    {
     "name": "stdin",
     "output_type": "stream",
     "text": [
      "Please input: 123\n"
     ]
    },
    {
     "data": {
      "text/plain": [
       "['1', '2', '3']"
      ]
     },
     "execution_count": 25,
     "metadata": {},
     "output_type": "execute_result"
    }
   ],
   "source": [
    "x=input('Please input:')#一律返回字符串\n",
    "type(x)\n",
    "eval(x)\n",
    "list(x)#['[', '1', ',', '2', ',', '3', ']']"
   ]
  },
  {
   "cell_type": "code",
   "execution_count": 14,
   "id": "c144b708-591b-465b-a0b4-0bbbf4693540",
   "metadata": {},
   "outputs": [
    {
     "name": "stdout",
     "output_type": "stream",
     "text": [
      "1\t3\t5\t7\n",
      "1,3,4,5\n",
      "1::2::3::4\n",
      "0,1,2,3,4,5,6,7,8,9,('a', 0)\n",
      "('b', 1)\n",
      "('c', 2)\n"
     ]
    },
    {
     "data": {
      "text/plain": [
       "[('a', '1'), ('b', '2'), ('c', '3'), ('d', '4')]"
      ]
     },
     "execution_count": 14,
     "metadata": {},
     "output_type": "execute_result"
    }
   ],
   "source": [
    "#print(value1,value2,value3,.....,sep='',end='\\n') sep参数用于数据之间分隔符，end输出完所有数据之后结束符\n",
    "print(1,3,5,7,sep='\\t')#使用制表符分隔多个值\n",
    "print(1,3,4,5,sep=',')#使用逗号分隔多个值\n",
    "print(1,2,3,4,sep='::')#使用双冒号分隔多个值\n",
    "for i in range(10):#每输出一个元素后输出一个逗号，不换行，最后一个输出后面也有一个逗号\n",
    "    print(i,end=',')\n",
    "x=list(range(11))\n",
    "import random\n",
    "random.shuffle(x)#shuffle()随机打乱顺序\n",
    "x\n",
    "sorted(x)#按正常大小升序排序\n",
    "sorted(x,key=str)#按转换成字符串后的大小升序排序\n",
    "sorted(x,key=lambda item:len(str(item)),reverse=True)#按转换成字符串后的长度降序\n",
    "x=['aaaa','bc','d','ba']\n",
    "sorted(x,key=lambda item:(len(item),item))\n",
    "num=random.choices(range(1,10),k=5)\n",
    "int(''.join(sorted(map(str,num),reverse=True)))#几位数字能够组成的最大数\n",
    "int(''.join(sorted(map(str,num))))#几位数组成的最小数\n",
    "data=random.choices(range(50),k=11)#11个介于[0,50]区间的随机数\n",
    "data\n",
    "sorted(data)\n",
    "sorted(data)[len(data)//2]#中位数\n",
    "import statistics\n",
    "statistics.median(data)#中位数\n",
    "x=['aaaa','bc','d','e','fg']\n",
    "reversed(x)#返回reversed对象\n",
    "list(reversed(x))#reversed对象可迭代\n",
    "''.join(reversed('Hello world.'))#返回翻转后的字符串，join()把多个字符串连接为一个长字符串\n",
    "#reversed不支持内置函数len，reversed函数\n",
    "y=reversed(x)\n",
    "'d'in y#reversed对象具有惰性求值特点，每个元素只能使用一次，使用过的元素不能再使用\n",
    "list(map(str,range(5)))#把列表中元素转为字符串\n",
    "x=['aaaa','bc','d','b','xc']\n",
    "list(map(str.upper,x))#转换大小写\n",
    "x=['Hello','World']\n",
    "list(map(str.swapcase,x))#交换大小写\n",
    "sum(map(int,'1234'))#把字符串的内阁字符转换为整数再求和\n",
    "''.join(map(lambda item:item[0],x))#获取列表x中每个字符串的首字母再把首字母连接成字符串\n",
    "def add5(v):\n",
    "    return v+5#单参数函数，接受一个参数，加5后返回\n",
    "list(map(add5,range(10)))#range(10)中每个元素加5返回\n",
    "def add(x,y):\n",
    "    return x+y#可以接受两个参数的函数，返回他们的和\n",
    "list(map(add,range(5),range(5,10)))#把range(5)和range(5,10)对应位置的数字相加\n",
    "from functools import reduce\n",
    "reduce(add,range(1,10))#接受两个参数的函数从左到右依次作用\n",
    "def mul(x,y):\n",
    "    return x*y\n",
    "reduce(mul,range(1,10))#从1到9连乘\n",
    "def func(x,y):\n",
    "    return x*10+y\n",
    "reduce(func,range(1,10))#前面数字乘以10再加下一个数\n",
    "sets=[{1,2},{2,3},{3,4},{5,6}]\n",
    "def union(x,y):\n",
    "    return x|y#返回两个集合的并集\n",
    "reduce(union,sets)#依次对多个集合进行并集处理\n",
    "sets=[{1,2,3,4,5},{2,5,7},{3,2,5,8}]\n",
    "def intersection(x,y):\n",
    "    return x&y\n",
    "reduce(intersection,sets)#计算多个集合的交集\n",
    "seq=['123','hello world','./,','123asd']\n",
    "list(filter(str.isdigit,seq))#str类的isdigit方法用来测试一个字符串是否只包含数字字符\n",
    "data=list(range(20))\n",
    "filterObject=filter(lambda x:x%2==1,data)#过滤，只留下所有奇数\n",
    "3 in filterObject #3以及3之前的元素都访问过了\n",
    "list(filterObject)#所有元素都访问过了\n",
    "list(filterObject)#filterObject中不再包含任何元素\n",
    "list(filter(None,range(-3,5)))#第一个函数为None，过滤掉等价于False元素\n",
    "range(5)#start默认为0，step默认为1\n",
    "list(range(5))#把range对象转换为列表\n",
    "list(range(1,10))#指定start和step参数\n",
    "list(range(1,10,2))#同时指定start，stop，和step参数\n",
    "list(range(9,0,-2))#步长为负数时，start要比stop大否则不会包括任何函数\n",
    "list(range(5,10,-1))\n",
    "list(zip('abcdef',[1,2,3]))#压缩字符串和列表，结果数量取决于最短的参数序列\n",
    "list(zip('123','abc',',;['))#也可以处理3个序列\n",
    "for item in zip('abcd',range(3)):#zip对象可迭代\n",
    "    print(item)\n",
    "x=zip('abcd','1234')\n",
    "list(x)#zip对象只能遍历一次，访问过元素就不存在了，enumerate，filter，map对象也有这特点"
   ]
  },
  {
   "cell_type": "code",
   "execution_count": null,
   "id": "4d7d9003-c40d-45cb-958d-e3a7a1f7a057",
   "metadata": {},
   "outputs": [],
   "source": []
  },
  {
   "cell_type": "code",
   "execution_count": null,
   "id": "0b12e389-9d3a-40b3-ab7b-cf63676ef9c4",
   "metadata": {},
   "outputs": [],
   "source": []
  }
 ],
 "metadata": {
  "kernelspec": {
   "display_name": "GPUpt",
   "language": "python",
   "name": "gpupt"
  },
  "language_info": {
   "codemirror_mode": {
    "name": "ipython",
    "version": 3
   },
   "file_extension": ".py",
   "mimetype": "text/x-python",
   "name": "python",
   "nbconvert_exporter": "python",
   "pygments_lexer": "ipython3",
   "version": "3.8.0"
  }
 },
 "nbformat": 4,
 "nbformat_minor": 5
}
